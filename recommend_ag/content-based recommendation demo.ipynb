{
 "cells": [
  {
   "cell_type": "code",
   "execution_count": 52,
   "metadata": {},
   "outputs": [
    {
     "name": "stdout",
     "output_type": "stream",
     "text": [
      "사용자 취향 입력 (0~9) : 1 5 7\n",
      "고기\n"
     ]
    }
   ],
   "source": [
    "from sklearn.feature_extraction.text import TfidfVectorizer\n",
    "from sklearn.metrics.pairwise import linear_kernel\n",
    "import numpy as np\n",
    "import pandas as pd\n",
    "data = ''\n",
    "features = [\"한식 쌀밥 \",\"한식 고기 닭 튀김\",\"양식 빵 밀가루 채소\",\"중식 면 밀가루\",\"중식 면 해산물\",\"양식 빵 치즈 밀가루\",\"일식 해산물 물고기\",\"한식 밥 돼지 고기\",\"양식 고기 소 레스토랑\",\"분식 떡\"]\n",
    "choice = list(map(int, input('사용자 취향 입력 (0~9) : ').split()))\n",
    "for idx in choice:\n",
    "    data += ' ' + features[idx]\n",
    "tfidf = TfidfVectorizer(analyzer=\"word\")\n",
    "tfidf_matrix = tfidf.fit_transform([data])\n",
    "for idf in tfidf_matrix.toarray():\n",
    "    print(tfidf.get_feature_names()[np.where(idf == max(idf))[0][0]])"
   ]
  },
  {
   "cell_type": "code",
   "execution_count": 8,
   "metadata": {},
   "outputs": [
    {
     "name": "stdout",
     "output_type": "stream",
     "text": [
      "[1, 5, 9]\n",
      "[0.28867513 0.28867513 0.28867513 0.28867513 0.28867513 0.28867513\n",
      " 0.28867513 0.57735027 0.28867513]\n"
     ]
    },
    {
     "data": {
      "text/plain": [
       "'패스트푸드'"
      ]
     },
     "execution_count": 8,
     "metadata": {},
     "output_type": "execute_result"
    }
   ],
   "source": [
    "from sklearn.feature_extraction.text import TfidfVectorizer\n",
    "from sklearn.metrics.pairwise import linear_kernel\n",
    "import numpy as np\n",
    "import pandas as pd\n",
    "\n",
    "def getKeyword(n1, n2, n3):\n",
    "    choice = [n1, n2, n3]\n",
    "    print(choice)\n",
    "    data = ''\n",
    "    features = [\"한식 쌀밥 나물 쌈밥 고추장 국 비빔\",\"고기 닭 튀김 후라이드 양념 \",\"양식 빵 야채 패스트푸드\",\"중식 면 고기 소스 \",\"중식 면 해산물 \",\"양식 빵 치즈 패스트푸드\",\"일식 해산물 물고기 바다 회\",\"한식 밥 돼지 고기\",\"양식 고기 소 레스토랑\",\"분식 떡 매운 패스트푸드\"\n",
    "]\n",
    "    for idx in choice:\n",
    "        data += ' ' + features[idx]\n",
    "    tfidf = TfidfVectorizer(analyzer=\"word\")\n",
    "    tfidf_matrix = tfidf.fit_transform([data])\n",
    "    for idf in tfidf_matrix.toarray():\n",
    "        print(idf)\n",
    "        return (tfidf.get_feature_names()[np.where(idf == max(idf))[0][0]])\n",
    "    \n",
    "getKeyword(1, 5, 9)"
   ]
  },
  {
   "cell_type": "code",
   "execution_count": null,
   "metadata": {},
   "outputs": [],
   "source": [
    "\"한식 쌀밥 나물 쌈밥 고추장 국 비빔\",\"고기 닭 튀김 후라이드 양념 \",\"양식 빵 야채 패스트푸드\",\"중식 면 고기 소스 \",\"중식 면 해산물 \",\"양식 빵 치즈 패스트푸드\",\"일식 해산물 물고기 바다 회\",\"한식 밥 돼지 고기\",\"양식 고기 소 레스토랑\",\"분식 떡 매운 패스트푸드\"\n"
   ]
  }
 ],
 "metadata": {
  "kernelspec": {
   "display_name": "Python 3",
   "language": "python",
   "name": "python3"
  },
  "language_info": {
   "codemirror_mode": {
    "name": "ipython",
    "version": 3
   },
   "file_extension": ".py",
   "mimetype": "text/x-python",
   "name": "python",
   "nbconvert_exporter": "python",
   "pygments_lexer": "ipython3",
   "version": "3.8.5"
  }
 },
 "nbformat": 4,
 "nbformat_minor": 4
}
