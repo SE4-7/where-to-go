{
 "cells": [
  {
   "cell_type": "code",
   "execution_count": 67,
   "metadata": {},
   "outputs": [],
   "source": [
    "from sklearn.feature_extraction.text import TfidfVectorizer\n",
    "from sklearn.metrics.pairwise import linear_kernel\n",
    "import pandas as pd"
   ]
  },
  {
   "cell_type": "code",
   "execution_count": 68,
   "metadata": {},
   "outputs": [
    {
     "data": {
      "text/html": [
       "<div>\n",
       "<style scoped>\n",
       "    .dataframe tbody tr th:only-of-type {\n",
       "        vertical-align: middle;\n",
       "    }\n",
       "\n",
       "    .dataframe tbody tr th {\n",
       "        vertical-align: top;\n",
       "    }\n",
       "\n",
       "    .dataframe thead th {\n",
       "        text-align: right;\n",
       "    }\n",
       "</style>\n",
       "<table border=\"1\" class=\"dataframe\">\n",
       "  <thead>\n",
       "    <tr style=\"text-align: right;\">\n",
       "      <th></th>\n",
       "      <th>음식</th>\n",
       "      <th>특징</th>\n",
       "    </tr>\n",
       "  </thead>\n",
       "  <tbody>\n",
       "    <tr>\n",
       "      <th>0</th>\n",
       "      <td>비빔밥</td>\n",
       "      <td>한식 밥 채소</td>\n",
       "    </tr>\n",
       "    <tr>\n",
       "      <th>1</th>\n",
       "      <td>치킨</td>\n",
       "      <td>한식 고기 닭 튀김</td>\n",
       "    </tr>\n",
       "    <tr>\n",
       "      <th>2</th>\n",
       "      <td>햄버거</td>\n",
       "      <td>양식 빵 밀가루 채소</td>\n",
       "    </tr>\n",
       "    <tr>\n",
       "      <th>3</th>\n",
       "      <td>짜장면</td>\n",
       "      <td>중식 면 밀가루</td>\n",
       "    </tr>\n",
       "    <tr>\n",
       "      <th>4</th>\n",
       "      <td>팟타이</td>\n",
       "      <td>중식 면 해산물</td>\n",
       "    </tr>\n",
       "    <tr>\n",
       "      <th>5</th>\n",
       "      <td>피자</td>\n",
       "      <td>양식 빵 치즈 밀가루</td>\n",
       "    </tr>\n",
       "    <tr>\n",
       "      <th>6</th>\n",
       "      <td>회</td>\n",
       "      <td>일식 해산물 물고기</td>\n",
       "    </tr>\n",
       "    <tr>\n",
       "      <th>7</th>\n",
       "      <td>설렁탕</td>\n",
       "      <td>한식 밥 돼지 고기</td>\n",
       "    </tr>\n",
       "    <tr>\n",
       "      <th>8</th>\n",
       "      <td>스테이크</td>\n",
       "      <td>양식 고기 소 레스토랑</td>\n",
       "    </tr>\n",
       "    <tr>\n",
       "      <th>9</th>\n",
       "      <td>떡볶이</td>\n",
       "      <td>분식, 떡</td>\n",
       "    </tr>\n",
       "  </tbody>\n",
       "</table>\n",
       "</div>"
      ],
      "text/plain": [
       "     음식            특징\n",
       "0   비빔밥       한식 밥 채소\n",
       "1    치킨    한식 고기 닭 튀김\n",
       "2   햄버거   양식 빵 밀가루 채소\n",
       "3   짜장면      중식 면 밀가루\n",
       "4   팟타이      중식 면 해산물\n",
       "5    피자   양식 빵 치즈 밀가루\n",
       "6     회    일식 해산물 물고기\n",
       "7   설렁탕    한식 밥 돼지 고기\n",
       "8  스테이크  양식 고기 소 레스토랑\n",
       "9   떡볶이         분식, 떡"
      ]
     },
     "execution_count": 68,
     "metadata": {},
     "output_type": "execute_result"
    }
   ],
   "source": [
    "data = [\n",
    "    [\"비빔밥\", \"한식 밥 채소\"],\n",
    "    [\"치킨\", \"한식 고기 닭 튀김\"],\n",
    "    [\"햄버거\", \"양식 빵 밀가루 채소\"],\n",
    "    [\"짜장면\", \"중식 면 밀가루\"],\n",
    "    [\"팟타이\", \"중식 면 해산물\"],\n",
    "    [\"피자\", \"양식 빵 치즈 밀가루\"],\n",
    "    [\"회\", \"일식 해산물 물고기\"],\n",
    "    [\"설렁탕\", \"한식 밥 돼지 고기\"],\n",
    "    [\"스테이크\", \"양식 고기 소 레스토랑\"],\n",
    "    [\"떡볶이\", \"분식, 떡\"]\n",
    "]\n",
    "\n",
    "ds = pd.DataFrame(data, columns=[\"음식\", \"특징\"])\n",
    "ds"
   ]
  },
  {
   "cell_type": "code",
   "execution_count": 80,
   "metadata": {},
   "outputs": [
    {
     "name": "stdout",
     "output_type": "stream",
     "text": [
      "1 2 5\n"
     ]
    },
    {
     "data": {
      "text/plain": [
       "[1, 2, 5]"
      ]
     },
     "execution_count": 80,
     "metadata": {},
     "output_type": "execute_result"
    }
   ],
   "source": [
    "choice = list(map(int, input().split()))\n",
    "choice"
   ]
  },
  {
   "cell_type": "code",
   "execution_count": 81,
   "metadata": {},
   "outputs": [
    {
     "data": {
      "text/html": [
       "<div>\n",
       "<style scoped>\n",
       "    .dataframe tbody tr th:only-of-type {\n",
       "        vertical-align: middle;\n",
       "    }\n",
       "\n",
       "    .dataframe tbody tr th {\n",
       "        vertical-align: top;\n",
       "    }\n",
       "\n",
       "    .dataframe thead th {\n",
       "        text-align: right;\n",
       "    }\n",
       "</style>\n",
       "<table border=\"1\" class=\"dataframe\">\n",
       "  <thead>\n",
       "    <tr style=\"text-align: right;\">\n",
       "      <th></th>\n",
       "      <th>음식</th>\n",
       "      <th>특징</th>\n",
       "    </tr>\n",
       "  </thead>\n",
       "  <tbody>\n",
       "    <tr>\n",
       "      <th>1</th>\n",
       "      <td>치킨</td>\n",
       "      <td>한식 고기 닭 튀김</td>\n",
       "    </tr>\n",
       "    <tr>\n",
       "      <th>2</th>\n",
       "      <td>햄버거</td>\n",
       "      <td>양식 빵 밀가루 채소</td>\n",
       "    </tr>\n",
       "    <tr>\n",
       "      <th>5</th>\n",
       "      <td>피자</td>\n",
       "      <td>양식 빵 치즈 밀가루</td>\n",
       "    </tr>\n",
       "  </tbody>\n",
       "</table>\n",
       "</div>"
      ],
      "text/plain": [
       "    음식           특징\n",
       "1   치킨   한식 고기 닭 튀김\n",
       "2  햄버거  양식 빵 밀가루 채소\n",
       "5   피자  양식 빵 치즈 밀가루"
      ]
     },
     "execution_count": 81,
     "metadata": {},
     "output_type": "execute_result"
    }
   ],
   "source": [
    "taste = ds.loc[choice, :]\n",
    "taste"
   ]
  },
  {
   "cell_type": "code",
   "execution_count": 82,
   "metadata": {},
   "outputs": [
    {
     "name": "stdout",
     "output_type": "stream",
     "text": [
      "(3, 7)\n",
      "  (0, 5)\t0.5773502691896257\n",
      "  (0, 0)\t0.5773502691896257\n",
      "  (0, 6)\t0.5773502691896257\n",
      "  (1, 3)\t0.680918560398684\n",
      "  (1, 1)\t0.5178561161676974\n",
      "  (1, 2)\t0.5178561161676974\n",
      "  (2, 4)\t0.680918560398684\n",
      "  (2, 1)\t0.5178561161676974\n",
      "  (2, 2)\t0.5178561161676974\n",
      "['고기', '밀가루', '양식', '채소', '치즈', '튀김', '한식']\n"
     ]
    }
   ],
   "source": [
    "tfidf = TfidfVectorizer(analyzer=\"word\")\n",
    "tfidf_matrix = tfidf.fit_transform(taste[\"특징\"])\n",
    "\n",
    "print(tfidf_matrix.shape)\n",
    "print(tfidf_matrix)\n",
    "\n",
    "feature = tfidf.get_feature_names()\n",
    "print(feature)"
   ]
  },
  {
   "cell_type": "code",
   "execution_count": null,
   "metadata": {},
   "outputs": [],
   "source": []
  }
 ],
 "metadata": {
  "kernelspec": {
   "display_name": "Python 3",
   "language": "python",
   "name": "python3"
  },
  "language_info": {
   "codemirror_mode": {
    "name": "ipython",
    "version": 3
   },
   "file_extension": ".py",
   "mimetype": "text/x-python",
   "name": "python",
   "nbconvert_exporter": "python",
   "pygments_lexer": "ipython3",
   "version": "3.8.5"
  }
 },
 "nbformat": 4,
 "nbformat_minor": 4
}
