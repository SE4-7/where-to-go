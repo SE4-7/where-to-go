{
 "cells": [
  {
   "cell_type": "code",
   "execution_count": 52,
   "metadata": {},
   "outputs": [
    {
     "name": "stdout",
     "output_type": "stream",
     "text": [
      "사용자 취향 입력 (0~9) : 1 5 7\n",
      "고기\n"
     ]
    }
   ],
   "source": [
    "from sklearn.feature_extraction.text import TfidfVectorizer\n",
    "from sklearn.metrics.pairwise import linear_kernel\n",
    "import numpy as np\n",
    "import pandas as pd\n",
    "data = ''\n",
    "features = [\"한식 쌀밥 \",\"한식 고기 닭 튀김\",\"양식 빵 밀가루 채소\",\"중식 면 밀가루\",\"중식 면 해산물\",\"양식 빵 치즈 밀가루\",\"일식 해산물 물고기\",\"한식 밥 돼지 고기\",\"양식 고기 소 레스토랑\",\"분식 떡\"]\n",
    "choice = list(map(int, input('사용자 취향 입력 (0~9) : ').split()))\n",
    "for idx in choice:\n",
    "    data += ' ' + features[idx]\n",
    "tfidf = TfidfVectorizer(analyzer=\"word\")\n",
    "tfidf_matrix = tfidf.fit_transform([data])\n",
    "for idf in tfidf_matrix.toarray():\n",
    "    print(tfidf.get_feature_names()[np.where(idf == max(idf))[0][0]])"
   ]
  },
  {
   "cell_type": "code",
   "execution_count": null,
   "metadata": {},
   "outputs": [],
   "source": []
  }
 ],
 "metadata": {
  "kernelspec": {
   "display_name": "Python 3",
   "language": "python",
   "name": "python3"
  },
  "language_info": {
   "codemirror_mode": {
    "name": "ipython",
    "version": 3
   },
   "file_extension": ".py",
   "mimetype": "text/x-python",
   "name": "python",
   "nbconvert_exporter": "python",
   "pygments_lexer": "ipython3",
   "version": "3.8.5"
  }
 },
 "nbformat": 4,
 "nbformat_minor": 4
}
